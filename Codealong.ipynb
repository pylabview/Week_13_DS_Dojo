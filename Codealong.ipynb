{
 "cells": [
  {
   "cell_type": "markdown",
   "id": "66657c27-f62c-41e4-b18c-a4e5c57cce7a",
   "metadata": {
    "tags": []
   },
   "source": [
    "# First Code ALong"
   ]
  },
  {
   "cell_type": "code",
   "execution_count": 3,
   "id": "93e39c15-e926-47a4-9bc3-5141af080c36",
   "metadata": {},
   "outputs": [
    {
     "data": {
      "text/plain": [
       "15"
      ]
     },
     "execution_count": 3,
     "metadata": {},
     "output_type": "execute_result"
    }
   ],
   "source": [
    "5 + 10"
   ]
  },
  {
   "cell_type": "code",
   "execution_count": null,
   "id": "8c3e2f7f-17ae-4c75-bba0-8a3979c0166a",
   "metadata": {},
   "outputs": [],
   "source": []
  }
 ],
 "metadata": {
  "kernelspec": {
   "display_name": "Python 3 (ipykernel)",
   "language": "python",
   "name": "python3"
  },
  "language_info": {
   "codemirror_mode": {
    "name": "ipython",
    "version": 3
   },
   "file_extension": ".py",
   "mimetype": "text/x-python",
   "name": "python",
   "nbconvert_exporter": "python",
   "pygments_lexer": "ipython3",
   "version": "3.9.15"
  }
 },
 "nbformat": 4,
 "nbformat_minor": 5
}
